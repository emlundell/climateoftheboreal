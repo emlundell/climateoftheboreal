{
 "cells": [
  {
   "cell_type": "code",
   "execution_count": 1,
   "metadata": {},
   "outputs": [],
   "source": [
    "import graphql as gq"
   ]
  },
  {
   "cell_type": "code",
   "execution_count": 2,
   "metadata": {},
   "outputs": [],
   "source": [
    "query = \"\"\"\n",
    "    {\n",
    "      levels(limit: 10, order_by: {level_id: asc, header: {year: desc}}) {\n",
    "        temp\n",
    "        press\n",
    "        header {\n",
    "          year\n",
    "          month\n",
    "          day\n",
    "          hour\n",
    "        }\n",
    "      }\n",
    "    }\n",
    "    \"\"\""
   ]
  },
  {
   "cell_type": "code",
   "execution_count": 3,
   "metadata": {},
   "outputs": [],
   "source": [
    "ret = gq.make_query(query)"
   ]
  },
  {
   "cell_type": "code",
   "execution_count": 4,
   "metadata": {},
   "outputs": [
    {
     "name": "stdout",
     "output_type": "stream",
     "text": [
      "{'levels': [{'temp': -9999, 'press': -9999, 'header': {'year': 1930, 'month': 8, 'day': 26, 'hour': 99}}, {'temp': -9999, 'press': -9999, 'header': {'year': 1930, 'month': 8, 'day': 26, 'hour': 99}}, {'temp': -9999, 'press': -9999, 'header': {'year': 1930, 'month': 8, 'day': 26, 'hour': 99}}, {'temp': -9999, 'press': -9999, 'header': {'year': 1930, 'month': 8, 'day': 26, 'hour': 99}}, {'temp': -9999, 'press': -9999, 'header': {'year': 1930, 'month': 8, 'day': 26, 'hour': 99}}, {'temp': -9999, 'press': -9999, 'header': {'year': 1930, 'month': 8, 'day': 26, 'hour': 99}}, {'temp': -9999, 'press': -9999, 'header': {'year': 1930, 'month': 8, 'day': 26, 'hour': 99}}, {'temp': -9999, 'press': -9999, 'header': {'year': 1930, 'month': 8, 'day': 26, 'hour': 99}}, {'temp': -9999, 'press': -9999, 'header': {'year': 1930, 'month': 8, 'day': 26, 'hour': 99}}, {'temp': -9999, 'press': -9999, 'header': {'year': 1930, 'month': 8, 'day': 26, 'hour': 99}}]}\n"
     ]
    }
   ],
   "source": [
    "print(ret)"
   ]
  },
  {
   "cell_type": "code",
   "execution_count": null,
   "metadata": {},
   "outputs": [],
   "source": []
  }
 ],
 "metadata": {
  "kernelspec": {
   "display_name": "Python 3",
   "language": "python",
   "name": "python3"
  },
  "language_info": {
   "codemirror_mode": {
    "name": "ipython",
    "version": 3
   },
   "file_extension": ".py",
   "mimetype": "text/x-python",
   "name": "python",
   "nbconvert_exporter": "python",
   "pygments_lexer": "ipython3",
   "version": "3.6.7"
  }
 },
 "nbformat": 4,
 "nbformat_minor": 2
}
